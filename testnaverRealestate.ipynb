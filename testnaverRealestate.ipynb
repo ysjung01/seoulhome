{
 "cells": [
  {
   "cell_type": "code",
   "execution_count": null,
   "metadata": {},
   "outputs": [],
   "source": [
    "import requests\n",
    "from bs4 import BeautifulSoup\n",
    "import json, pandas as pd\n",
    "\n",
    "pd.set_option('display.max_columns', None)\n",
    "pd.set_option('display.max_rows', None)"
   ]
  },
  {
   "cell_type": "code",
   "execution_count": null,
   "metadata": {},
   "outputs": [],
   "source": [
    "keyword = \"부천시 옥길동\"\n",
    "\n",
    "headers = {\"User-Agent\":\"Mozilla/5.0 (Windows NT 10.0; Win64; x64) AppleWebKit/537.36 (KHTML, like Gecko) Chrome/90.0.4430.93 Safari/537.36\"}\n",
    "url = \"https://m.land.naver.com/search/result/{}\".format(keyword)\n",
    "res = requests.get(url, headers=headers)\n",
    "res.raise_for_status()\n",
    "\n",
    "soup = (str)(BeautifulSoup(res.text, \"lxml\"))"
   ]
  },
  {
   "cell_type": "code",
   "execution_count": null,
   "metadata": {},
   "outputs": [],
   "source": [
    "value = soup.split(\"filter: {\")[1].split(\"}\")[0].replace(\" \",\"\").replace(\"'\",\"\")\n"
   ]
  },
  {
   "cell_type": "code",
   "execution_count": null,
   "metadata": {},
   "outputs": [],
   "source": [
    "\n",
    "lat = value.split(\"lat:\")[1].split(\",\")[0]\n",
    "lon = value.split(\"lon:\")[1].split(\",\")[0]\n",
    "z = value.split(\"z:\")[1].split(\",\")[0]\n",
    "cortarNo = value.split(\"cortarNo:\")[1].split(\",\")[0]\n",
    "rletTpCds = value.split(\"rletTpCds:\")[1].split(\",\")[0]\n",
    "tradTpCds = value.split(\"tradTpCds:\")[1].split()[0]\n",
    "\n",
    "# lat - btm : 37.550985 - 37.4331698 = 0.1178152\n",
    "# top - lat : 37.6686142 - 37.550985 = 0.1176292\n",
    "lat_margin = 0.118\n",
    "\n",
    "# lon - lft : 126.849534 - 126.7389841 = 0.1105499\n",
    "# rgt - lon : 126.9600839 - 126.849534 = 0.1105499\n",
    "lon_margin = 0.111\n",
    "\n",
    "btm=float(lat)-lat_margin\n",
    "lft=float(lon)-lon_margin\n",
    "top=float(lat)+lat_margin\n",
    "rgt=float(lon)+lon_margin\n",
    "\n",
    "# 최초 요청 시 디폴트 값으로 설정되어 있으나, 원하는 값으로 구성\n",
    "rletTpCds=\"APT\" #상가\n",
    "tradTpCds=\"A1:B1:B2\" #매매/전세/월세 매물 확인"
   ]
  },
  {
   "cell_type": "code",
   "execution_count": null,
   "metadata": {},
   "outputs": [],
   "source": [
    "# clusterList?view 를 통한 그룹(단지)의 데이터를 가져온다.\n",
    "# https://m.land.naver.com/cluster/clusterList?view=atcl&cortarNo=1120011300&rletTpCd=APT%3AABYG%3AJGC&tradTpCd=A1%3AB1%3AB2&z=14&lat=37.5419&lon=127.016&btm=37.5139238&lft=126.9682352&top=37.5698657&rgt=127.0637648&pCortarNo=&addon=COMPLEX&isOnlyIsale=false\n",
    "remaked_URL = \"https://m.land.naver.com/cluster/clusterList?view=atcl&cortarNo={}&rletTpCd={}&tradTpCd={}&z={}&lat={}&lon={}&btm={}&lft={}&top={}&rgt={}\"\\\n",
    "     .format(cortarNo, rletTpCds, tradTpCds, z, lat, lon,btm,lft,top,rgt)\n",
    "     \n",
    "print(remaked_URL)\n",
    "\n",
    "res2 = requests.get(remaked_URL, headers=headers)\n",
    "json_str = json.loads(json.dumps(res2.json()))"
   ]
  },
  {
   "cell_type": "code",
   "execution_count": null,
   "metadata": {},
   "outputs": [],
   "source": [
    "print(json_str)"
   ]
  },
  {
   "cell_type": "code",
   "execution_count": null,
   "metadata": {},
   "outputs": [],
   "source": [
    "req_URL = \"https://m.land.naver.com/complex/getComplexArticleList?hscpNo=567&tradTpCd=A1&order=point_&showR0=N&page=1\"\n",
    "res = requests.post(req_URL, headers=headers)\n",
    "json_str = json.loads(json.dumps(res.json()))\n",
    "\n",
    "\n",
    "APTlist = json_str['result']['list']\n",
    "df = pd.DataFrame(APTlist)\n",
    "display(df)\n",
    "\n",
    "df.to_csv('haha.csv', encoding='utf-8-sig')"
   ]
  },
  {
   "cell_type": "code",
   "execution_count": null,
   "metadata": {},
   "outputs": [],
   "source": [
    "URL = \"https://m.land.naver.com/complex/getComplexArticleList\"\n",
    "param = {\n",
    "    'hscpNo': '567',\n",
    "    'tradTpCd': 'A1:B1:B2',\n",
    "    'order': 'point',\n",
    "    'showR0': 'N',\n",
    "    'page': '1',\n",
    "\n",
    "}\n",
    "header = {\n",
    "    'User-Agent': 'Mozilla/5.0 (Windows NT 10.0; Win64; x64) AppleWebKit/537.36 (KHTML, like Gecko) Chrome/65.0.3325.220 Whale/1.3.51.7 Safari/537.36',\n",
    "    'Referer': 'https://m.land.naver.com/'\n",
    "}\n",
    "\n",
    "req_URL = \"https://m.land.naver.com/complex/getComplexArticleList\"\n",
    "\n",
    "resp = requests.post(req_URL, params=param, headers=header)\n",
    "json_str = json.loads(json.dumps(resp.json()))\n",
    "\n",
    "APTlist = json_str['result']['list']\n",
    "df = pd.DataFrame(APTlist)\n",
    "\n",
    "page = 1\n",
    "while True:\n",
    "    page += 1\n",
    "    param['page'] = page\n",
    "\n",
    "    req_URL = \"https://m.land.naver.com/complex/getComplexArticleList\"\n",
    "\n",
    "    resp = requests.post(req_URL, params=param, headers=header)\n",
    "    json_str = json.loads(json.dumps(resp.json()))\n",
    "\n",
    "\n",
    "    if len(json_str['result']['list']) == 0:\n",
    "         break\n",
    "\n",
    "    APTlist = json_str['result']['list']\n",
    "    nex_df = pd.DataFrame(APTlist)\n",
    "    df = pd.concat([df,nex_df])\n",
    "\n",
    "display(df)"
   ]
  }
 ],
 "metadata": {
  "kernelspec": {
   "display_name": "py3p10",
   "language": "python",
   "name": "python3"
  },
  "language_info": {
   "codemirror_mode": {
    "name": "ipython",
    "version": 3
   },
   "file_extension": ".py",
   "mimetype": "text/x-python",
   "name": "python",
   "nbconvert_exporter": "python",
   "pygments_lexer": "ipython3",
   "version": "3.10.14"
  }
 },
 "nbformat": 4,
 "nbformat_minor": 2
}
